{
 "cells": [
  {
   "cell_type": "code",
   "execution_count": 1,
   "metadata": {},
   "outputs": [
    {
     "name": "stdout",
     "output_type": "stream",
     "text": [
      "1\n",
      "2\n",
      "3\n",
      "4\n",
      "5\n",
      "6\n",
      "7\n",
      "8\n",
      "9\n",
      "10\n",
      "11\n",
      "12\n",
      "13\n",
      "14\n",
      "15\n",
      "16\n",
      "17\n",
      "18\n",
      "19\n",
      "20\n",
      "21\n",
      "22\n",
      "23\n",
      "24\n",
      "25\n"
     ]
    }
   ],
   "source": [
    "import re\n",
    "import requests\n",
    "import json\n",
    "import csv\n",
    "\n",
    "def get_one_page(url):\n",
    "    try:\n",
    "        response = requests.get(url)\n",
    "        if response.status_code == 200:\n",
    "            return response.text\n",
    "        return None\n",
    "    except RequestException:\n",
    "        return None\n",
    "    \n",
    "def parse_one_page(html):\n",
    "    pattern = re.compile('<li>.*?list_num.*?>(.*?)</div>.*?pic.*?src=\"(.*?)\".*?/></a>.*?name\"><a.*?title=\"(.*?)\">.*?tuijian\">(.*?)</span>.*?publisher_info.*?title=\"(.*?)\".*?biaosheng.*?<span>(.*?)</span>.*?</li>',re.S)\n",
    "    items = re.findall(pattern,html)\n",
    "    for item in items:\n",
    "        yield {\n",
    "            'index':item[0],\n",
    "            'iamge':item[1],\n",
    "            'title':item[2],\n",
    "            'tuijian':item[3],\n",
    "            'author':item[4],\n",
    "            'times':item[5],\n",
    "        }\n",
    "       # print(item)\n",
    "\n",
    "def write_content_to_file(content):\n",
    "    with open('book.csv','a',encoding='utf-8') as f:\n",
    "        f.write(json.dumps(content,ensure_ascii=False) + '\\n')\n",
    "        f.close()\n",
    "        \n",
    "        \n",
    "      #  w=csv.writer(f)\n",
    "      #  w.writerows(content)\n",
    "        \n",
    "        #f.write(json.dumps(content,ensure_ascii=False) + '\\n')\n",
    "       # f.close()\n",
    "        \n",
    "def main(page):\n",
    "    url = \"http://bang.dangdang.com/books/fivestars/01.00.00.00.00.00-recent30-0-0-1-\" + str(page)\n",
    "    html = get_one_page(url)\n",
    "    parse_one_page(html)\n",
    "    for item in parse_one_page(html):\n",
    "        #print(item)\n",
    "        write_content_to_file(item)\n",
    "\n",
    "if __name__ == \"__main__\":\n",
    "    for i in range(1,26):\n",
    "        main(i)\n",
    "        print(i)"
   ]
  },
  {
   "cell_type": "code",
   "execution_count": null,
   "metadata": {
    "collapsed": true
   },
   "outputs": [],
   "source": []
  },
  {
   "cell_type": "code",
   "execution_count": null,
   "metadata": {
    "collapsed": true
   },
   "outputs": [],
   "source": []
  }
 ],
 "metadata": {
  "kernelspec": {
   "display_name": "Python 3",
   "language": "python",
   "name": "python3"
  },
  "language_info": {
   "codemirror_mode": {
    "name": "ipython",
    "version": 3
   },
   "file_extension": ".py",
   "mimetype": "text/x-python",
   "name": "python",
   "nbconvert_exporter": "python",
   "pygments_lexer": "ipython3",
   "version": "3.6.3"
  }
 },
 "nbformat": 4,
 "nbformat_minor": 2
}
