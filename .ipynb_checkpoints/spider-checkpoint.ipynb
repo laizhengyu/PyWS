{
 "cells": [
  {
   "cell_type": "code",
   "execution_count": 1,
   "metadata": {},
   "outputs": [
    {
     "name": "stdout",
     "output_type": "stream",
     "text": [
      "http://category.dangdang.com/pg2-cp01.00.00.00.00.00.html\n",
      "http://category.dangdang.com/pg3-cp01.00.00.00.00.00.html\n",
      "http://category.dangdang.com/pg4-cp01.00.00.00.00.00.html\n",
      "http://category.dangdang.com/pg5-cp01.00.00.00.00.00.html\n",
      "http://category.dangdang.com/pg6-cp01.00.00.00.00.00.html\n",
      "http://category.dangdang.com/pg7-cp01.00.00.00.00.00.html\n"
     ]
    }
   ],
   "source": [
    "import requests\n",
    "from time import sleep\n",
    "from lxml import etree\n",
    "class dangdang_spider():\n",
    "#定义爬虫类\n",
    "    def __init__(self):\n",
    "        self.url=\"http://category.dangdang.com/pg{}-cp01.00.00.00.00.00.html\" #爬虫网址\n",
    "        self.headers= {#设置headers\n",
    "            'User-Agent': 'Mozilla/5.0 (Windows NT 6.1; Win64; x64) AppleWebKit/537.36 (KHTML, like Gecko) Chrome/56.0.2924.87 Safari/537.36'}\n",
    "#爬取基本网页信息\n",
    "    def parse(self,url):\n",
    "         r=requests.get(url,headers=self.headers)\n",
    "         return r.content.decode(encoding='gbk')\n",
    "#对数据处理\n",
    "    def handle_data(self, data,i):\n",
    "        html = etree.HTML(data)#对信息进行html格式化\n",
    "        msg_list=[]\n",
    "        li_list=html.xpath(\"// ul[ @ id = 'component_0__0__6612']/li\")#利用xpath锁定图书信息所在的html标签\n",
    "        for li in li_list:\n",
    "            msg = {}\n",
    "            msg['book_title'] = li.xpath('./p/a/text()')[0]\n",
    "            msg['book-author'] = li.xpath('./p/span[1]/a[1]/@title')[0]if len(li.xpath('./p/span[1]/a[1]/@title')) >0 else '无'\n",
    "            msg['book-publish'] = li.xpath('./p/span[3]/a/text()')[0]if len(li.xpath('./p/span[3]/a/text()')) >0 else '无'\n",
    "            msg['book-publish_time'] = li.xpath('./p[5]/span[2]/text()')[0].replace(' /','')if len(li.xpath('./p[5]/span[2]/text()')) >0 else '无'\n",
    "            msg['book-descrip'] = li.xpath('./p[2]/text()')[0]if len(li.xpath('./p[2]/text()')) >0 else '无'\n",
    "            msg['book-price'] = li.xpath('./p[3]/span[1]/text()')[0]\n",
    "            msg['book-pinglun'] = li.xpath('./p[4]/a/text()')[0]\n",
    "            msg_list.append(msg)\n",
    "        # print(msg_list)\n",
    " \n",
    "        next_url = self.url.format(i) #构建下一页url\n",
    "        return msg_list, next_url\n",
    "    def save_data(self,data):\n",
    "        for msg in data:\n",
    "            msg_str=msg['book_title']+','+msg['book-author']+','+msg['book-publish']+','+msg['book-publish_time']+','+msg['book-descrip']+','+msg['book-price']+','+msg['book-pinglun']\n",
    "            print(msg_str)\n",
    "            with open('dangdang.csv','a',encoding='utf-8') as f: #写入文件\n",
    "                f.write(msg_str)\n",
    "                f.write('\\n')\n",
    "    def run(self):\n",
    "        i=1\n",
    "        count=0\n",
    "        next_url=self.url.format(i)\n",
    "        while next_url:\n",
    "            html_str=self.parse(next_url)\n",
    "            i = i + 1\n",
    "            count=count+1\n",
    "            \n",
    "            msg_list, next_url=self.handle_data(html_str,i)\n",
    "            self.save_data(msg_list)\n",
    "            print(next_url)\n",
    "            if count>5:\n",
    "                break\n",
    "            sleep(2)\n",
    " \n",
    "if __name__ == '__main__':\n",
    "    d=dangdang_spider()\n",
    "    d.run()\n"
   ]
  },
  {
   "cell_type": "code",
   "execution_count": null,
   "metadata": {
    "collapsed": true
   },
   "outputs": [],
   "source": []
  }
 ],
 "metadata": {
  "kernelspec": {
   "display_name": "Python 3",
   "language": "python",
   "name": "python3"
  },
  "language_info": {
   "codemirror_mode": {
    "name": "ipython",
    "version": 3
   },
   "file_extension": ".py",
   "mimetype": "text/x-python",
   "name": "python",
   "nbconvert_exporter": "python",
   "pygments_lexer": "ipython3",
   "version": "3.6.3"
  }
 },
 "nbformat": 4,
 "nbformat_minor": 2
}
